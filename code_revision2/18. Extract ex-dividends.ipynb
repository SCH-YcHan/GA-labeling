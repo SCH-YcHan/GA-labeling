{
 "cells": [
  {
   "cell_type": "code",
   "execution_count": 41,
   "id": "f39f2b49-fa72-4c24-b456-e2d361803807",
   "metadata": {},
   "outputs": [],
   "source": [
    "import os\n",
    "import pandas as pd\n",
    "import yfinance as yf"
   ]
  },
  {
   "cell_type": "code",
   "execution_count": 34,
   "id": "a076fa44-fb7d-4cc7-b558-aa278cbb62d6",
   "metadata": {},
   "outputs": [],
   "source": [
    "# code_revision/17. Confirm selection stock by SGA.R\n",
    "NASDAQ_symbols = [\n",
    "    \"AAPL\", \"ADBE\", \"ALGN\", \"ALNY\", \"AMAT\", \"AMZN\", \"DLTR\", \"DXCM\", \"ENTG\", \"EXAS\", \"IDXX\",\n",
    "    \"ILMN\", \"INTU\", \"ISRG\", \"KLAC\", \"LRCX\", \"LULU\", \"MASI\", \"MELI\", \"MKTX\", \"MPWR\", \"MRVL\",\n",
    "    \"MSFT\", \"NFLX\", \"NTAP\", \"NVDA\", \"ORLY\", \"PODD\", \"POOL\", \"REGN\", \"ROST\", \"SBAC\", \"SGEN\",\n",
    "    \"TTWO\", \"ULTA\", \"VRSN\", \"VRTX\", \"ZBRA\"\n",
    "]\n",
    "\n",
    "KOSPI_symbols = [\n",
    "    \"000100.KS\", \"000120.KS\", \"000240.KS\", \"000270.KS\", \"000660.KS\", \"001740.KS\",\n",
    "    \"003550.KS\", \"004170.KS\", \"005930.KS\", \"006360.KS\", \"006400.KS\", \"006800.KS\",\n",
    "    \"009150.KS\", \"009540.KS\", \"010060.KS\", \"010620.KS\", \"010950.KS\", \"011200.KS\",\n",
    "    \"012450.KS\", \"012630.KS\", \"016360.KS\", \"032640.KS\", \"034220.KS\", \"035250.KS\",\n",
    "    \"035420.KS\", \"036460.KS\", \"042660.KS\", \"042670.KS\", \"047040.KS\", \"051900.KS\",\n",
    "    \"051910.KS\", \"078930.KS\", \"096770.KS\"\n",
    "]"
   ]
  },
  {
   "cell_type": "code",
   "execution_count": 36,
   "id": "050be282-98cc-49f6-8b0d-12b49b370f49",
   "metadata": {},
   "outputs": [
    {
     "name": "stdout",
     "output_type": "stream",
     "text": [
      "ALGN Ex-dividends Not found\n",
      "ALNY Ex-dividends Not found\n",
      "AMZN Ex-dividends Not found\n",
      "DLTR Ex-dividends Not found\n",
      "DXCM Ex-dividends Not found\n",
      "EXAS Ex-dividends Not found\n",
      "IDXX Ex-dividends Not found\n",
      "ILMN Ex-dividends Not found\n",
      "ISRG Ex-dividends Not found\n",
      "LULU Ex-dividends Not found\n",
      "NFLX Ex-dividends Not found\n",
      "ORLY Ex-dividends Not found\n",
      "PODD Ex-dividends Not found\n",
      "REGN Ex-dividends Not found\n"
     ]
    },
    {
     "name": "stderr",
     "output_type": "stream",
     "text": [
      "SGEN: No timezone found, symbol may be delisted\n"
     ]
    },
    {
     "name": "stdout",
     "output_type": "stream",
     "text": [
      "SGEN Ex-dividends Not found\n",
      "VRTX Ex-dividends Not found\n",
      "ZBRA Ex-dividends Not found\n"
     ]
    }
   ],
   "source": [
    "# Define the date range of interest\n",
    "start_date = \"2019-01-01\"\n",
    "end_date = \"2023-12-31\"\n",
    "\n",
    "# Prepare a DataFrame to collect all data\n",
    "nasdaq_dividend_data = pd.DataFrame(columns=[\"Symbol\", \"Ex-Dividend Date\"])\n",
    "\n",
    "# Fetch dividend data for each symbol within the specified date range\n",
    "for symbol in NASDAQ_symbols:\n",
    "    ticker = yf.Ticker(symbol)\n",
    "    try:\n",
    "        # Get dividends\n",
    "        divs = ticker.dividends\n",
    "\n",
    "        if len(divs)==0: \n",
    "            print(symbol, \"Ex-dividends Not found\")\n",
    "\n",
    "        else:\n",
    "            # Filter dividends for the date range\n",
    "            divs = divs[(divs.index >= start_date) & (divs.index <= end_date)]\n",
    "            # Prepare data to add to the DataFrame\n",
    "            temp_df = pd.DataFrame({\n",
    "                \"Symbol\": symbol,\n",
    "                \"Ex-Dividend Date\": divs.index.strftime('%Y-%m-%d')\n",
    "            })\n",
    "            nasdaq_dividend_data = pd.concat([nasdaq_dividend_data, temp_df], ignore_index=True)\n",
    "    except:\n",
    "        print(symbol, \"Ex-dividends Not found\")"
   ]
  },
  {
   "cell_type": "code",
   "execution_count": 37,
   "id": "d2e2de44-66aa-4eac-a323-478eb5f07d53",
   "metadata": {},
   "outputs": [],
   "source": [
    "# Define the date range of interest\n",
    "start_date = \"2019-01-01\"\n",
    "end_date = \"2023-12-31\"\n",
    "\n",
    "# Prepare a DataFrame to collect all data\n",
    "kospi_dividend_data = pd.DataFrame(columns=[\"Symbol\", \"Ex-Dividend Date\"])\n",
    "\n",
    "# Fetch dividend data for each symbol within the specified date range\n",
    "for symbol in KOSPI_symbols:\n",
    "    ticker = yf.Ticker(symbol)\n",
    "    try:\n",
    "        # Get dividends\n",
    "        divs = ticker.dividends\n",
    "\n",
    "        if len(divs)==0: \n",
    "            print(symbol, \"Ex-dividends Not found\")\n",
    "\n",
    "        else:\n",
    "            # Filter dividends for the date range\n",
    "            divs = divs[(divs.index >= start_date) & (divs.index <= end_date)]\n",
    "            # Prepare data to add to the DataFrame\n",
    "            temp_df = pd.DataFrame({\n",
    "                \"Symbol\": symbol,\n",
    "                \"Ex-Dividend Date\": divs.index.strftime('%Y-%m-%d')\n",
    "            })\n",
    "            kospi_dividend_data = pd.concat([kospi_dividend_data, temp_df], ignore_index=True)\n",
    "    except:\n",
    "        print(symbol, \"Ex-dividends Not found\")"
   ]
  },
  {
   "cell_type": "code",
   "execution_count": 42,
   "id": "a4c1bfce-eb8a-4aff-94b0-97ea48af3f17",
   "metadata": {},
   "outputs": [],
   "source": [
    "dividend_path = \"../data/Stock_dividend/\"\n",
    "if not os.path.exists(dividend_path):\n",
    "    os.mkdir(dividend_path)\n",
    "    \n",
    "nasdaq_dividend_data.to_csv(dividend_path + \"NASDAQ_dividends_date.csv\", index=False)\n",
    "kospi_dividend_data.to_csv(dividend_path + \"KOSPI_dividends_date.csv\", index=False)"
   ]
  },
  {
   "cell_type": "code",
   "execution_count": null,
   "id": "db39ea01-2b2e-49f2-8d57-165767159e4e",
   "metadata": {},
   "outputs": [],
   "source": []
  }
 ],
 "metadata": {
  "kernelspec": {
   "display_name": "Python 3 (ipykernel)",
   "language": "python",
   "name": "python3"
  },
  "language_info": {
   "codemirror_mode": {
    "name": "ipython",
    "version": 3
   },
   "file_extension": ".py",
   "mimetype": "text/x-python",
   "name": "python",
   "nbconvert_exporter": "python",
   "pygments_lexer": "ipython3",
   "version": "3.8.0"
  }
 },
 "nbformat": 4,
 "nbformat_minor": 5
}
